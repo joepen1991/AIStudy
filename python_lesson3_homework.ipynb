{
 "cells": [
  {
   "cell_type": "code",
   "execution_count": 21,
   "metadata": {},
   "outputs": [
    {
     "name": "stdout",
     "output_type": "stream",
     "text": [
      "helloworld_howare_you\\n"
     ]
    }
   ],
   "source": [
    "def printstring(*args,seps=\" \",ends=\"\\\\n\"):\n",
    "    sum =\"\"\n",
    "    for i in range(len(args)):\n",
    "        if i < len(args) - 1:\n",
    "            sum = sum +str(args[i])+seps\n",
    "        else:\n",
    "            sum = sum +str(args[i])\n",
    "    print(sum, sep = seps,end=ends)   \n",
    "printstring(\"helloworld\",\"howare\",\"you\",seps=\"_\")"
   ]
  },
  {
   "cell_type": "code",
   "execution_count": 23,
   "metadata": {},
   "outputs": [
    {
     "name": "stdout",
     "output_type": "stream",
     "text": [
      "2 3\n",
      "3 5\n",
      "5 8\n",
      "8 13\n",
      "13 21\n",
      "21 34\n",
      "34 55\n",
      "55 89\n",
      "89 144\n",
      "144 233\n",
      "233 377\n",
      "377 610\n",
      "610 987\n",
      "987 1597\n",
      "1597 2584\n"
     ]
    }
   ],
   "source": [
    "def fibo(a,b):\n",
    "    while a <1000:\n",
    "        a,b = b,a+b\n",
    "        print(a,b)\n",
    "fibo(1,2)\n",
    "        "
   ]
  },
  {
   "cell_type": "code",
   "execution_count": null,
   "metadata": {},
   "outputs": [],
   "source": []
  }
 ],
 "metadata": {
  "kernelspec": {
   "display_name": "Python 3",
   "language": "python",
   "name": "python3"
  },
  "language_info": {
   "codemirror_mode": {
    "name": "ipython",
    "version": 3
   },
   "file_extension": ".py",
   "mimetype": "text/x-python",
   "name": "python",
   "nbconvert_exporter": "python",
   "pygments_lexer": "ipython3",
   "version": "3.6.5"
  }
 },
 "nbformat": 4,
 "nbformat_minor": 2
}
